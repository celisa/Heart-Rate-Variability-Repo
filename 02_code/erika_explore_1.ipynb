{
 "cells": [
  {
   "cell_type": "code",
   "execution_count": 931,
   "metadata": {},
   "outputs": [],
   "source": [
    "from kats.models.prophet import ProphetModel, ProphetParams\n",
    "from kats.consts import TimeSeriesData\n",
    "from kats.models.var import VARModel, VARParams"
   ]
  },
  {
   "cell_type": "code",
   "execution_count": 932,
   "metadata": {},
   "outputs": [],
   "source": [
    "import pandas as pd\n",
    "\n",
    "from sklearn.metrics import r2_score\n",
    "from sklearn.metrics import mean_squared_error\n",
    "import math\n",
    "import numpy as np\n",
    "import matplotlib.pyplot as plt"
   ]
  },
  {
   "cell_type": "code",
   "execution_count": 933,
   "metadata": {},
   "outputs": [],
   "source": [
    "patient1_RRI=pd.read_table(\"/Users/erikafox/Desktop/Heart-Rate-Variability-Repo/1st topic/3578243.ECG2177606AnesEvents-6+10mins_RRI.txt\",sep=\",\",names=[\"time\",\"signal\"])\n",
    "patient1_BIS=pd.read_table(\"/Users/erikafox/Desktop/Heart-Rate-Variability-Repo/1st topic/3578243.ECG2177606AnesEvents-6+10mins_BIS.txt\",sep=\",\",names=[\"time\",\"signal\"])\n",
    "patient1=pd.DataFrame( { 'time': patient1_RRI[\"time\"], 'RRI': patient1_RRI[\"signal\"],'BIS':patient1_BIS[\"signal\"] } )\n",
    "\n",
    "\n",
    "patient2_RRI=pd.read_table(\"/Users/erikafox/Desktop/Heart-Rate-Variability-Repo/1st topic/7195417.ECG3710114AnesEvents-6+10mins_RRI.txt\",sep=\",\",names=[\"time\",\"signal\"])\n",
    "patient2_BIS=pd.read_table(\"/Users/erikafox/Desktop/Heart-Rate-Variability-Repo/1st topic/7195417.ECG3710114AnesEvents-6+10mins_BIS.txt\",sep=\",\",names=[\"time\",\"signal\"])\n",
    "patient2=pd.DataFrame( { 'time': patient2_RRI[\"time\"], 'RRI': patient2_RRI[\"signal\"],'BIS':patient2_BIS[\"signal\"] } )\n",
    "\n",
    "patient3_RRI=pd.read_table(\"/Users/erikafox/Desktop/Heart-Rate-Variability-Repo/1st topic/06233283.ECG2442913AnesEvents-6+10mins_RRI.txt\",sep=\",\",names=[\"time\",\"signal\"])\n",
    "patient3_BIS=pd.read_table(\"/Users/erikafox/Desktop/Heart-Rate-Variability-Repo/1st topic/06233283.ECG2442913AnesEvents-6+10mins_BIS.txt\",sep=\",\",names=[\"time\",\"signal\"])\n",
    "patient3=pd.DataFrame( { 'time': patient3_RRI[\"time\"], 'RRI': patient3_RRI[\"signal\"],'BIS':patient3_BIS[\"signal\"] } )\n",
    "\n"
   ]
  },
  {
   "cell_type": "code",
   "execution_count": 934,
   "metadata": {},
   "outputs": [],
   "source": [
    "patient1[\"pre_during\"]=np.where(patient1['time']<patient1['time'][1440],0,1)\n",
    "patient1=patient1.drop(columns=[\"time\"])\n",
    "\n",
    "patient2[\"pre_during\"]=np.where(patient2['time']<patient2['time'][1440],0,1)\n",
    "patient2=patient2.drop(columns=[\"time\"])\n",
    "\n",
    "patient3[\"pre_during\"]=np.where(patient3['time']<patient3['time'][1440],0,1)\n",
    "patient3=patient3.drop(columns=[\"time\"])"
   ]
  },
  {
   "cell_type": "code",
   "execution_count": 935,
   "metadata": {},
   "outputs": [],
   "source": [
    "patient1['patient']='patient 1'\n",
    "patient2['patient']='patient 2'\n",
    "patient3['patient']='patient 3'\n",
    "\n",
    "\n",
    "\n",
    "patient1['time']=patient1.index\n",
    "patient2['time']=patient2.index\n",
    "patient3['time']=patient3.index\n",
    "\n",
    "\n",
    "df=pd.concat([patient1, patient2])\n",
    "df=pd.concat([df, patient3])\n",
    "\n",
    "df=df.dropna()\n"
   ]
  },
  {
   "cell_type": "code",
   "execution_count": 936,
   "metadata": {},
   "outputs": [
    {
     "data": {
      "text/html": [
       "<div>\n",
       "<style scoped>\n",
       "    .dataframe tbody tr th:only-of-type {\n",
       "        vertical-align: middle;\n",
       "    }\n",
       "\n",
       "    .dataframe tbody tr th {\n",
       "        vertical-align: top;\n",
       "    }\n",
       "\n",
       "    .dataframe thead th {\n",
       "        text-align: right;\n",
       "    }\n",
       "</style>\n",
       "<table border=\"1\" class=\"dataframe\">\n",
       "  <thead>\n",
       "    <tr style=\"text-align: right;\">\n",
       "      <th></th>\n",
       "      <th>RRI</th>\n",
       "      <th>BIS</th>\n",
       "      <th>pre_during</th>\n",
       "      <th>patient</th>\n",
       "      <th>time</th>\n",
       "    </tr>\n",
       "  </thead>\n",
       "  <tbody>\n",
       "    <tr>\n",
       "      <th>0</th>\n",
       "      <td>947.496594</td>\n",
       "      <td>38.933975</td>\n",
       "      <td>0</td>\n",
       "      <td>patient 1</td>\n",
       "      <td>0</td>\n",
       "    </tr>\n",
       "    <tr>\n",
       "      <th>1</th>\n",
       "      <td>946.049856</td>\n",
       "      <td>38.744022</td>\n",
       "      <td>0</td>\n",
       "      <td>patient 1</td>\n",
       "      <td>1</td>\n",
       "    </tr>\n",
       "    <tr>\n",
       "      <th>2</th>\n",
       "      <td>950.959205</td>\n",
       "      <td>38.554069</td>\n",
       "      <td>0</td>\n",
       "      <td>patient 1</td>\n",
       "      <td>2</td>\n",
       "    </tr>\n",
       "    <tr>\n",
       "      <th>3</th>\n",
       "      <td>959.596392</td>\n",
       "      <td>38.364116</td>\n",
       "      <td>0</td>\n",
       "      <td>patient 1</td>\n",
       "      <td>3</td>\n",
       "    </tr>\n",
       "    <tr>\n",
       "      <th>4</th>\n",
       "      <td>969.281723</td>\n",
       "      <td>38.174163</td>\n",
       "      <td>0</td>\n",
       "      <td>patient 1</td>\n",
       "      <td>4</td>\n",
       "    </tr>\n",
       "    <tr>\n",
       "      <th>...</th>\n",
       "      <td>...</td>\n",
       "      <td>...</td>\n",
       "      <td>...</td>\n",
       "      <td>...</td>\n",
       "      <td>...</td>\n",
       "    </tr>\n",
       "    <tr>\n",
       "      <th>3836</th>\n",
       "      <td>1140.766647</td>\n",
       "      <td>28.717459</td>\n",
       "      <td>1</td>\n",
       "      <td>patient 3</td>\n",
       "      <td>3836</td>\n",
       "    </tr>\n",
       "    <tr>\n",
       "      <th>3837</th>\n",
       "      <td>1141.498737</td>\n",
       "      <td>28.712461</td>\n",
       "      <td>1</td>\n",
       "      <td>patient 3</td>\n",
       "      <td>3837</td>\n",
       "    </tr>\n",
       "    <tr>\n",
       "      <th>3838</th>\n",
       "      <td>1142.230828</td>\n",
       "      <td>28.707464</td>\n",
       "      <td>1</td>\n",
       "      <td>patient 3</td>\n",
       "      <td>3838</td>\n",
       "    </tr>\n",
       "    <tr>\n",
       "      <th>3839</th>\n",
       "      <td>1142.962918</td>\n",
       "      <td>28.702466</td>\n",
       "      <td>1</td>\n",
       "      <td>patient 3</td>\n",
       "      <td>3839</td>\n",
       "    </tr>\n",
       "    <tr>\n",
       "      <th>3840</th>\n",
       "      <td>1143.695008</td>\n",
       "      <td>28.700000</td>\n",
       "      <td>1</td>\n",
       "      <td>patient 3</td>\n",
       "      <td>3840</td>\n",
       "    </tr>\n",
       "  </tbody>\n",
       "</table>\n",
       "<p>11523 rows × 5 columns</p>\n",
       "</div>"
      ],
      "text/plain": [
       "              RRI        BIS  pre_during    patient  time\n",
       "0      947.496594  38.933975           0  patient 1     0\n",
       "1      946.049856  38.744022           0  patient 1     1\n",
       "2      950.959205  38.554069           0  patient 1     2\n",
       "3      959.596392  38.364116           0  patient 1     3\n",
       "4      969.281723  38.174163           0  patient 1     4\n",
       "...           ...        ...         ...        ...   ...\n",
       "3836  1140.766647  28.717459           1  patient 3  3836\n",
       "3837  1141.498737  28.712461           1  patient 3  3837\n",
       "3838  1142.230828  28.707464           1  patient 3  3838\n",
       "3839  1142.962918  28.702466           1  patient 3  3839\n",
       "3840  1143.695008  28.700000           1  patient 3  3840\n",
       "\n",
       "[11523 rows x 5 columns]"
      ]
     },
     "execution_count": 936,
     "metadata": {},
     "output_type": "execute_result"
    }
   ],
   "source": [
    "df"
   ]
  },
  {
   "cell_type": "code",
   "execution_count": 937,
   "metadata": {},
   "outputs": [
    {
     "data": {
      "text/html": [
       "<div>\n",
       "<style scoped>\n",
       "    .dataframe tbody tr th:only-of-type {\n",
       "        vertical-align: middle;\n",
       "    }\n",
       "\n",
       "    .dataframe tbody tr th {\n",
       "        vertical-align: top;\n",
       "    }\n",
       "\n",
       "    .dataframe thead th {\n",
       "        text-align: right;\n",
       "    }\n",
       "</style>\n",
       "<table border=\"1\" class=\"dataframe\">\n",
       "  <thead>\n",
       "    <tr style=\"text-align: right;\">\n",
       "      <th></th>\n",
       "      <th>time</th>\n",
       "      <th>RRI</th>\n",
       "    </tr>\n",
       "  </thead>\n",
       "  <tbody>\n",
       "    <tr>\n",
       "      <th>0</th>\n",
       "      <td>0</td>\n",
       "      <td>[947.496593696054, 1055.7129619471, 982.034640...</td>\n",
       "    </tr>\n",
       "    <tr>\n",
       "      <th>1</th>\n",
       "      <td>1</td>\n",
       "      <td>[946.049855706645, 1053.14586738381, 977.96632...</td>\n",
       "    </tr>\n",
       "    <tr>\n",
       "      <th>2</th>\n",
       "      <td>2</td>\n",
       "      <td>[950.959204917901, 1049.44123380795, 975.91420...</td>\n",
       "    </tr>\n",
       "    <tr>\n",
       "      <th>3</th>\n",
       "      <td>3</td>\n",
       "      <td>[959.59639237171, 1045.46782054286, 977.147376...</td>\n",
       "    </tr>\n",
       "    <tr>\n",
       "      <th>4</th>\n",
       "      <td>4</td>\n",
       "      <td>[969.281723471716, 1042.0943869119, 981.219560...</td>\n",
       "    </tr>\n",
       "    <tr>\n",
       "      <th>...</th>\n",
       "      <td>...</td>\n",
       "      <td>...</td>\n",
       "    </tr>\n",
       "    <tr>\n",
       "      <th>3836</th>\n",
       "      <td>3836</td>\n",
       "      <td>[671.1284312347, 852.841399882666, 1140.766647...</td>\n",
       "    </tr>\n",
       "    <tr>\n",
       "      <th>3837</th>\n",
       "      <td>3837</td>\n",
       "      <td>[669.305194745206, 853.109321369199, 1141.4987...</td>\n",
       "    </tr>\n",
       "    <tr>\n",
       "      <th>3838</th>\n",
       "      <td>3838</td>\n",
       "      <td>[667.93717787221, 853.377242855733, 1142.23082...</td>\n",
       "    </tr>\n",
       "    <tr>\n",
       "      <th>3839</th>\n",
       "      <td>3839</td>\n",
       "      <td>[667.119143658001, 853.645164342266, 1142.9629...</td>\n",
       "    </tr>\n",
       "    <tr>\n",
       "      <th>3840</th>\n",
       "      <td>3840</td>\n",
       "      <td>[666.889702679048, 853.9130858288, 1143.695008...</td>\n",
       "    </tr>\n",
       "  </tbody>\n",
       "</table>\n",
       "<p>3841 rows × 2 columns</p>\n",
       "</div>"
      ],
      "text/plain": [
       "      time                                                RRI\n",
       "0        0  [947.496593696054, 1055.7129619471, 982.034640...\n",
       "1        1  [946.049855706645, 1053.14586738381, 977.96632...\n",
       "2        2  [950.959204917901, 1049.44123380795, 975.91420...\n",
       "3        3  [959.59639237171, 1045.46782054286, 977.147376...\n",
       "4        4  [969.281723471716, 1042.0943869119, 981.219560...\n",
       "...    ...                                                ...\n",
       "3836  3836  [671.1284312347, 852.841399882666, 1140.766647...\n",
       "3837  3837  [669.305194745206, 853.109321369199, 1141.4987...\n",
       "3838  3838  [667.93717787221, 853.377242855733, 1142.23082...\n",
       "3839  3839  [667.119143658001, 853.645164342266, 1142.9629...\n",
       "3840  3840  [666.889702679048, 853.9130858288, 1143.695008...\n",
       "\n",
       "[3841 rows x 2 columns]"
      ]
     },
     "execution_count": 937,
     "metadata": {},
     "output_type": "execute_result"
    }
   ],
   "source": [
    "df2=df.groupby(\"time\")['RRI'].apply(list)\n",
    "x=pd.DataFrame(df2).reset_index()\n",
    "x"
   ]
  },
  {
   "cell_type": "code",
   "execution_count": 938,
   "metadata": {},
   "outputs": [],
   "source": [
    "df=pd.DataFrame(x.RRI.tolist(), index= df2.index).reset_index()"
   ]
  },
  {
   "cell_type": "code",
   "execution_count": 939,
   "metadata": {},
   "outputs": [],
   "source": [
    "df=df.dropna()\n"
   ]
  },
  {
   "cell_type": "code",
   "execution_count": 940,
   "metadata": {},
   "outputs": [
    {
     "data": {
      "text/html": [
       "<div>\n",
       "<style scoped>\n",
       "    .dataframe tbody tr th:only-of-type {\n",
       "        vertical-align: middle;\n",
       "    }\n",
       "\n",
       "    .dataframe tbody tr th {\n",
       "        vertical-align: top;\n",
       "    }\n",
       "\n",
       "    .dataframe thead th {\n",
       "        text-align: right;\n",
       "    }\n",
       "</style>\n",
       "<table border=\"1\" class=\"dataframe\">\n",
       "  <thead>\n",
       "    <tr style=\"text-align: right;\">\n",
       "      <th></th>\n",
       "      <th>time</th>\n",
       "      <th>patient1</th>\n",
       "      <th>patient2</th>\n",
       "      <th>patient3</th>\n",
       "      <th>mean</th>\n",
       "      <th>pre_during</th>\n",
       "    </tr>\n",
       "  </thead>\n",
       "  <tbody>\n",
       "    <tr>\n",
       "      <th>0</th>\n",
       "      <td>0</td>\n",
       "      <td>947.496594</td>\n",
       "      <td>1055.712962</td>\n",
       "      <td>982.034641</td>\n",
       "      <td>995.081399</td>\n",
       "      <td>0</td>\n",
       "    </tr>\n",
       "    <tr>\n",
       "      <th>1</th>\n",
       "      <td>1</td>\n",
       "      <td>946.049856</td>\n",
       "      <td>1053.145867</td>\n",
       "      <td>977.966327</td>\n",
       "      <td>992.387350</td>\n",
       "      <td>0</td>\n",
       "    </tr>\n",
       "    <tr>\n",
       "      <th>2</th>\n",
       "      <td>2</td>\n",
       "      <td>950.959205</td>\n",
       "      <td>1049.441234</td>\n",
       "      <td>975.914210</td>\n",
       "      <td>992.104883</td>\n",
       "      <td>0</td>\n",
       "    </tr>\n",
       "    <tr>\n",
       "      <th>3</th>\n",
       "      <td>3</td>\n",
       "      <td>959.596392</td>\n",
       "      <td>1045.467821</td>\n",
       "      <td>977.147376</td>\n",
       "      <td>994.070530</td>\n",
       "      <td>0</td>\n",
       "    </tr>\n",
       "    <tr>\n",
       "      <th>4</th>\n",
       "      <td>4</td>\n",
       "      <td>969.281723</td>\n",
       "      <td>1042.094387</td>\n",
       "      <td>981.219561</td>\n",
       "      <td>997.531890</td>\n",
       "      <td>0</td>\n",
       "    </tr>\n",
       "    <tr>\n",
       "      <th>...</th>\n",
       "      <td>...</td>\n",
       "      <td>...</td>\n",
       "      <td>...</td>\n",
       "      <td>...</td>\n",
       "      <td>...</td>\n",
       "      <td>...</td>\n",
       "    </tr>\n",
       "    <tr>\n",
       "      <th>3836</th>\n",
       "      <td>3836</td>\n",
       "      <td>671.128431</td>\n",
       "      <td>852.841400</td>\n",
       "      <td>1140.766647</td>\n",
       "      <td>888.245493</td>\n",
       "      <td>1</td>\n",
       "    </tr>\n",
       "    <tr>\n",
       "      <th>3837</th>\n",
       "      <td>3837</td>\n",
       "      <td>669.305195</td>\n",
       "      <td>853.109321</td>\n",
       "      <td>1141.498737</td>\n",
       "      <td>887.971085</td>\n",
       "      <td>1</td>\n",
       "    </tr>\n",
       "    <tr>\n",
       "      <th>3838</th>\n",
       "      <td>3838</td>\n",
       "      <td>667.937178</td>\n",
       "      <td>853.377243</td>\n",
       "      <td>1142.230828</td>\n",
       "      <td>887.848416</td>\n",
       "      <td>1</td>\n",
       "    </tr>\n",
       "    <tr>\n",
       "      <th>3839</th>\n",
       "      <td>3839</td>\n",
       "      <td>667.119144</td>\n",
       "      <td>853.645164</td>\n",
       "      <td>1142.962918</td>\n",
       "      <td>887.909075</td>\n",
       "      <td>1</td>\n",
       "    </tr>\n",
       "    <tr>\n",
       "      <th>3840</th>\n",
       "      <td>3840</td>\n",
       "      <td>666.889703</td>\n",
       "      <td>853.913086</td>\n",
       "      <td>1143.695008</td>\n",
       "      <td>888.165932</td>\n",
       "      <td>1</td>\n",
       "    </tr>\n",
       "  </tbody>\n",
       "</table>\n",
       "<p>3841 rows × 6 columns</p>\n",
       "</div>"
      ],
      "text/plain": [
       "      time    patient1     patient2     patient3        mean  pre_during\n",
       "0        0  947.496594  1055.712962   982.034641  995.081399           0\n",
       "1        1  946.049856  1053.145867   977.966327  992.387350           0\n",
       "2        2  950.959205  1049.441234   975.914210  992.104883           0\n",
       "3        3  959.596392  1045.467821   977.147376  994.070530           0\n",
       "4        4  969.281723  1042.094387   981.219561  997.531890           0\n",
       "...    ...         ...          ...          ...         ...         ...\n",
       "3836  3836  671.128431   852.841400  1140.766647  888.245493           1\n",
       "3837  3837  669.305195   853.109321  1141.498737  887.971085           1\n",
       "3838  3838  667.937178   853.377243  1142.230828  887.848416           1\n",
       "3839  3839  667.119144   853.645164  1142.962918  887.909075           1\n",
       "3840  3840  666.889703   853.913086  1143.695008  888.165932           1\n",
       "\n",
       "[3841 rows x 6 columns]"
      ]
     },
     "execution_count": 940,
     "metadata": {},
     "output_type": "execute_result"
    }
   ],
   "source": [
    "df=df.rename(columns={0:\"patient1\",1:\"patient2\",2:\"patient3\"})\n",
    "df[\"mean\"]=(df[\"patient1\"]+df[\"patient2\"]+df[\"patient3\"])/3\n",
    "\n",
    "df[\"pre_during\"]=np.where(df['time']<df['time'][1440],0,1)\n",
    "df"
   ]
  },
  {
   "cell_type": "code",
   "execution_count": 941,
   "metadata": {},
   "outputs": [
    {
     "data": {
      "text/plain": [
       "<matplotlib.lines.Line2D at 0x7fa4840f0040>"
      ]
     },
     "execution_count": 941,
     "metadata": {},
     "output_type": "execute_result"
    },
    {
     "data": {
      "image/png": "[encoded data removed]",
      "text/plain": [
       "<Figure size 432x288 with 1 Axes>"
      ]
     },
     "metadata": {
      "needs_background": "light"
     },
     "output_type": "display_data"
    }
   ],
   "source": [
    "import matplotlib.pyplot as plt\n",
    "import seaborn as sns \n",
    "\n",
    "sns.lineplot(x=df.index,y=df[\"patient3\"])\n",
    "plt.title(\"patient1_RRI\")\n",
    "plt.axvline(x = 1440, color = 'b', label = 'axvline - full height')"
   ]
  },
  {
   "cell_type": "code",
   "execution_count": 942,
   "metadata": {},
   "outputs": [
    {
     "data": {
      "text/plain": [
       "<matplotlib.lines.Line2D at 0x7fa484126e80>"
      ]
     },
     "execution_count": 942,
     "metadata": {},
     "output_type": "execute_result"
    },
    {
     "data": {
      "image/png": "[encoded data removed]",
      "text/plain": [
       "<Figure size 432x288 with 1 Axes>"
      ]
     },
     "metadata": {
      "needs_background": "light"
     },
     "output_type": "display_data"
    }
   ],
   "source": [
    "sns.lineplot(x=df.index,y=df[\"patient2\"])\n",
    "plt.title(\"patient1_RRI\")\n",
    "plt.axvline(x = 1440, color = 'b', label = 'axvline - full height')"
   ]
  },
  {
   "cell_type": "code",
   "execution_count": 943,
   "metadata": {},
   "outputs": [],
   "source": [
    "from statsmodels.tsa.seasonal import seasonal_decompose\n",
    "\n",
    "#patient 1\n",
    "result_mul = seasonal_decompose(df[\"patient1\"], model='multiplicative', period=30)\n",
    "df[\"patient1\"] = df[\"patient1\"] - result_mul.trend\n",
    "\n",
    "result_mul = seasonal_decompose(df[\"patient2\"], model='multiplicative', period=30)\n",
    "df[\"patient2\"] = df[\"patient2\"] - result_mul.trend\n",
    "\n",
    "#patient 2\n",
    "result_mul = seasonal_decompose(df[\"patient3\"], model='multiplicative', period=30)\n",
    "df[\"patient3\"] = df[\"patient3\"] - result_mul.trend\n",
    "\n",
    "result_mul = seasonal_decompose(df[\"mean\"], model='multiplicative', period=30)\n",
    "df[\"mean\"] = df[\"mean\"] - result_mul.trend\n",
    "\n",
    "\n"
   ]
  },
  {
   "cell_type": "code",
   "execution_count": 944,
   "metadata": {},
   "outputs": [
    {
     "data": {
      "text/html": [
       "<div>\n",
       "<style scoped>\n",
       "    .dataframe tbody tr th:only-of-type {\n",
       "        vertical-align: middle;\n",
       "    }\n",
       "\n",
       "    .dataframe tbody tr th {\n",
       "        vertical-align: top;\n",
       "    }\n",
       "\n",
       "    .dataframe thead th {\n",
       "        text-align: right;\n",
       "    }\n",
       "</style>\n",
       "<table border=\"1\" class=\"dataframe\">\n",
       "  <thead>\n",
       "    <tr style=\"text-align: right;\">\n",
       "      <th></th>\n",
       "      <th>patient1</th>\n",
       "      <th>patient2</th>\n",
       "      <th>patient3</th>\n",
       "      <th>pre_during</th>\n",
       "    </tr>\n",
       "  </thead>\n",
       "  <tbody>\n",
       "    <tr>\n",
       "      <th>15</th>\n",
       "      <td>-17.631569</td>\n",
       "      <td>4.990563e+00</td>\n",
       "      <td>2.427861e+00</td>\n",
       "      <td>0</td>\n",
       "    </tr>\n",
       "    <tr>\n",
       "      <th>16</th>\n",
       "      <td>-17.484495</td>\n",
       "      <td>6.209667e+00</td>\n",
       "      <td>2.503941e-02</td>\n",
       "      <td>0</td>\n",
       "    </tr>\n",
       "    <tr>\n",
       "      <th>17</th>\n",
       "      <td>-16.078915</td>\n",
       "      <td>6.805756e+00</td>\n",
       "      <td>-2.707605e+00</td>\n",
       "      <td>0</td>\n",
       "    </tr>\n",
       "    <tr>\n",
       "      <th>18</th>\n",
       "      <td>-14.943812</td>\n",
       "      <td>6.837709e+00</td>\n",
       "      <td>-4.074041e+00</td>\n",
       "      <td>0</td>\n",
       "    </tr>\n",
       "    <tr>\n",
       "      <th>19</th>\n",
       "      <td>-15.628912</td>\n",
       "      <td>6.536688e+00</td>\n",
       "      <td>-2.632037e+00</td>\n",
       "      <td>0</td>\n",
       "    </tr>\n",
       "    <tr>\n",
       "      <th>...</th>\n",
       "      <td>...</td>\n",
       "      <td>...</td>\n",
       "      <td>...</td>\n",
       "      <td>...</td>\n",
       "    </tr>\n",
       "    <tr>\n",
       "      <th>3821</th>\n",
       "      <td>0.029946</td>\n",
       "      <td>-2.273737e-13</td>\n",
       "      <td>-4.774847e-12</td>\n",
       "      <td>1</td>\n",
       "    </tr>\n",
       "    <tr>\n",
       "      <th>3822</th>\n",
       "      <td>0.919822</td>\n",
       "      <td>3.410605e-13</td>\n",
       "      <td>-4.320100e-12</td>\n",
       "      <td>1</td>\n",
       "    </tr>\n",
       "    <tr>\n",
       "      <th>3823</th>\n",
       "      <td>1.496466</td>\n",
       "      <td>-1.136868e-13</td>\n",
       "      <td>-4.320100e-12</td>\n",
       "      <td>1</td>\n",
       "    </tr>\n",
       "    <tr>\n",
       "      <th>3824</th>\n",
       "      <td>1.049843</td>\n",
       "      <td>-2.273737e-13</td>\n",
       "      <td>-3.637979e-12</td>\n",
       "      <td>1</td>\n",
       "    </tr>\n",
       "    <tr>\n",
       "      <th>3825</th>\n",
       "      <td>0.125463</td>\n",
       "      <td>2.273737e-13</td>\n",
       "      <td>-3.183231e-12</td>\n",
       "      <td>1</td>\n",
       "    </tr>\n",
       "  </tbody>\n",
       "</table>\n",
       "<p>3811 rows × 4 columns</p>\n",
       "</div>"
      ],
      "text/plain": [
       "       patient1      patient2      patient3  pre_during\n",
       "15   -17.631569  4.990563e+00  2.427861e+00           0\n",
       "16   -17.484495  6.209667e+00  2.503941e-02           0\n",
       "17   -16.078915  6.805756e+00 -2.707605e+00           0\n",
       "18   -14.943812  6.837709e+00 -4.074041e+00           0\n",
       "19   -15.628912  6.536688e+00 -2.632037e+00           0\n",
       "...         ...           ...           ...         ...\n",
       "3821   0.029946 -2.273737e-13 -4.774847e-12           1\n",
       "3822   0.919822  3.410605e-13 -4.320100e-12           1\n",
       "3823   1.496466 -1.136868e-13 -4.320100e-12           1\n",
       "3824   1.049843 -2.273737e-13 -3.637979e-12           1\n",
       "3825   0.125463  2.273737e-13 -3.183231e-12           1\n",
       "\n",
       "[3811 rows x 4 columns]"
      ]
     },
     "execution_count": 944,
     "metadata": {},
     "output_type": "execute_result"
    }
   ],
   "source": [
    "df=df.dropna()\n",
    "df=df.drop(columns=[\"time\",\"mean\"])\n",
    "df"
   ]
  },
  {
   "cell_type": "code",
   "execution_count": 945,
   "metadata": {},
   "outputs": [
    {
     "name": "stderr",
     "output_type": "stream",
     "text": [
      "/opt/miniconda3/lib/python3.9/site-packages/statsmodels/tsa/base/tsa_model.py:471: ValueWarning: An unsupported index was provided and will be ignored when e.g. forecasting.\n",
      "  self._init_dates(dates, freq)\n"
     ]
    }
   ],
   "source": [
    "from statsmodels.tsa.arima.model import ARIMA\n",
    "train = df\n",
    "\n",
    "#fit the model\n",
    "from statsmodels.tsa.vector_ar.var_model import VAR\n",
    "\n",
    "model = VAR(endog=train)\n",
    "model_fit = model.fit()"
   ]
  },
  {
   "cell_type": "code",
   "execution_count": 946,
   "metadata": {},
   "outputs": [
    {
     "data": {
      "text/plain": [
       "  Summary of Regression Results   \n",
       "==================================\n",
       "Model:                         VAR\n",
       "Method:                        OLS\n",
       "Date:           Mon, 20, Feb, 2023\n",
       "Time:                     17:14:25\n",
       "--------------------------------------------------------------------\n",
       "No. of Equations:         4.00000    BIC:                   0.110224\n",
       "Nobs:                     3810.00    HQIC:                 0.0890895\n",
       "Log likelihood:          -21752.1    FPE:                    1.08052\n",
       "AIC:                    0.0774396    Det(Omega_mle):         1.07486\n",
       "--------------------------------------------------------------------\n",
       "Results for equation patient1\n",
       "================================================================================\n",
       "                   coefficient       std. error           t-stat            prob\n",
       "--------------------------------------------------------------------------------\n",
       "const                 0.006568         0.108101            0.061           0.952\n",
       "L1.patient1           0.946830         0.005247          180.461           0.000\n",
       "L1.patient2          -0.021090         0.007511           -2.808           0.005\n",
       "L1.patient3          -0.003705         0.005002           -0.741           0.459\n",
       "L1.pre_during        -0.004451         0.136631           -0.033           0.974\n",
       "================================================================================\n",
       "\n",
       "Results for equation patient2\n",
       "================================================================================\n",
       "                   coefficient       std. error           t-stat            prob\n",
       "--------------------------------------------------------------------------------\n",
       "const                 0.021908         0.082155            0.267           0.790\n",
       "L1.patient1           0.012262         0.003987            3.075           0.002\n",
       "L1.patient2           0.935056         0.005709          163.798           0.000\n",
       "L1.patient3           0.000576         0.003802            0.151           0.880\n",
       "L1.pre_during        -0.036115         0.103838           -0.348           0.728\n",
       "================================================================================\n",
       "\n",
       "Results for equation patient3\n",
       "================================================================================\n",
       "                   coefficient       std. error           t-stat            prob\n",
       "--------------------------------------------------------------------------------\n",
       "const                -0.005243         0.134294           -0.039           0.969\n",
       "L1.patient1           0.003453         0.006518            0.530           0.596\n",
       "L1.patient2          -0.005577         0.009331           -0.598           0.550\n",
       "L1.patient3           0.923530         0.006215          148.609           0.000\n",
       "L1.pre_during         0.008211         0.169737            0.048           0.961\n",
       "================================================================================\n",
       "\n",
       "Results for equation pre_during\n",
       "================================================================================\n",
       "                   coefficient       std. error           t-stat            prob\n",
       "--------------------------------------------------------------------------------\n",
       "const                 0.000696         0.000428            1.624           0.104\n",
       "L1.patient1          -0.000018         0.000021           -0.883           0.377\n",
       "L1.patient2           0.000117         0.000030            3.934           0.000\n",
       "L1.patient3           0.000002         0.000020            0.096           0.923\n",
       "L1.pre_during         0.999306         0.000541         1845.516           0.000\n",
       "================================================================================\n",
       "\n",
       "Correlation matrix of residuals\n",
       "              patient1  patient2  patient3  pre_during\n",
       "patient1      1.000000  0.032206  0.012390   -0.001342\n",
       "patient2      0.032206  1.000000 -0.015257   -0.003185\n",
       "patient3      0.012390 -0.015257  1.000000    0.004416\n",
       "pre_during   -0.001342 -0.003185  0.004416    1.000000\n",
       "\n"
      ]
     },
     "execution_count": 946,
     "metadata": {},
     "output_type": "execute_result"
    }
   ],
   "source": [
    "model_fit.summary()"
   ]
  },
  {
   "cell_type": "code",
   "execution_count": 947,
   "metadata": {},
   "outputs": [],
   "source": [
    "#sim=pd.DataFrame(model_fit.simulate(len(df)))"
   ]
  },
  {
   "cell_type": "code",
   "execution_count": 948,
   "metadata": {},
   "outputs": [
    {
     "data": {
      "text/html": [
       "<div>\n",
       "<style scoped>\n",
       "    .dataframe tbody tr th:only-of-type {\n",
       "        vertical-align: middle;\n",
       "    }\n",
       "\n",
       "    .dataframe tbody tr th {\n",
       "        vertical-align: top;\n",
       "    }\n",
       "\n",
       "    .dataframe thead th {\n",
       "        text-align: right;\n",
       "    }\n",
       "</style>\n",
       "<table border=\"1\" class=\"dataframe\">\n",
       "  <thead>\n",
       "    <tr style=\"text-align: right;\">\n",
       "      <th></th>\n",
       "      <th>patient1</th>\n",
       "      <th>patient2</th>\n",
       "      <th>patient3</th>\n",
       "      <th>pre_during</th>\n",
       "    </tr>\n",
       "  </thead>\n",
       "  <tbody>\n",
       "    <tr>\n",
       "      <th>0</th>\n",
       "      <td>0.006568</td>\n",
       "      <td>0.021908</td>\n",
       "      <td>-0.005243</td>\n",
       "      <td>0.000696</td>\n",
       "    </tr>\n",
       "    <tr>\n",
       "      <th>1</th>\n",
       "      <td>-0.309888</td>\n",
       "      <td>-2.133438</td>\n",
       "      <td>5.627954</td>\n",
       "      <td>0.005401</td>\n",
       "    </tr>\n",
       "    <tr>\n",
       "      <th>2</th>\n",
       "      <td>6.227267</td>\n",
       "      <td>-9.214858</td>\n",
       "      <td>12.709351</td>\n",
       "      <td>0.002609</td>\n",
       "    </tr>\n",
       "    <tr>\n",
       "      <th>3</th>\n",
       "      <td>8.258748</td>\n",
       "      <td>-4.075816</td>\n",
       "      <td>9.162484</td>\n",
       "      <td>0.008469</td>\n",
       "    </tr>\n",
       "    <tr>\n",
       "      <th>4</th>\n",
       "      <td>1.148511</td>\n",
       "      <td>-3.595424</td>\n",
       "      <td>6.373453</td>\n",
       "      <td>0.005062</td>\n",
       "    </tr>\n",
       "    <tr>\n",
       "      <th>...</th>\n",
       "      <td>...</td>\n",
       "      <td>...</td>\n",
       "      <td>...</td>\n",
       "      <td>...</td>\n",
       "    </tr>\n",
       "    <tr>\n",
       "      <th>3806</th>\n",
       "      <td>-3.510389</td>\n",
       "      <td>-4.112780</td>\n",
       "      <td>13.420003</td>\n",
       "      <td>0.062913</td>\n",
       "    </tr>\n",
       "    <tr>\n",
       "      <th>3807</th>\n",
       "      <td>-2.418964</td>\n",
       "      <td>-0.529092</td>\n",
       "      <td>9.566800</td>\n",
       "      <td>0.062225</td>\n",
       "    </tr>\n",
       "    <tr>\n",
       "      <th>3808</th>\n",
       "      <td>-5.453405</td>\n",
       "      <td>-0.243400</td>\n",
       "      <td>-0.214170</td>\n",
       "      <td>0.092127</td>\n",
       "    </tr>\n",
       "    <tr>\n",
       "      <th>3809</th>\n",
       "      <td>-11.338999</td>\n",
       "      <td>-1.649282</td>\n",
       "      <td>1.663271</td>\n",
       "      <td>0.060515</td>\n",
       "    </tr>\n",
       "    <tr>\n",
       "      <th>3810</th>\n",
       "      <td>-10.777052</td>\n",
       "      <td>-2.706666</td>\n",
       "      <td>5.677863</td>\n",
       "      <td>0.056143</td>\n",
       "    </tr>\n",
       "  </tbody>\n",
       "</table>\n",
       "<p>3811 rows × 4 columns</p>\n",
       "</div>"
      ],
      "text/plain": [
       "       patient1  patient2   patient3  pre_during\n",
       "0      0.006568  0.021908  -0.005243    0.000696\n",
       "1     -0.309888 -2.133438   5.627954    0.005401\n",
       "2      6.227267 -9.214858  12.709351    0.002609\n",
       "3      8.258748 -4.075816   9.162484    0.008469\n",
       "4      1.148511 -3.595424   6.373453    0.005062\n",
       "...         ...       ...        ...         ...\n",
       "3806  -3.510389 -4.112780  13.420003    0.062913\n",
       "3807  -2.418964 -0.529092   9.566800    0.062225\n",
       "3808  -5.453405 -0.243400  -0.214170    0.092127\n",
       "3809 -11.338999 -1.649282   1.663271    0.060515\n",
       "3810 -10.777052 -2.706666   5.677863    0.056143\n",
       "\n",
       "[3811 rows x 4 columns]"
      ]
     },
     "execution_count": 948,
     "metadata": {},
     "output_type": "execute_result"
    }
   ],
   "source": [
    "sim=pd.DataFrame(model_fit.simulate_var(len(df)),columns=df.columns)\n",
    "sim"
   ]
  },
  {
   "cell_type": "code",
   "execution_count": 949,
   "metadata": {},
   "outputs": [
    {
     "data": {
      "text/plain": [
       "15     -17.631569\n",
       "16     -17.484495\n",
       "17     -16.078915\n",
       "18     -14.943812\n",
       "19     -15.628912\n",
       "          ...    \n",
       "3821     0.029946\n",
       "3822     0.919822\n",
       "3823     1.496466\n",
       "3824     1.049843\n",
       "3825     0.125463\n",
       "Name: patient1, Length: 3811, dtype: float64"
      ]
     },
     "execution_count": 949,
     "metadata": {},
     "output_type": "execute_result"
    }
   ],
   "source": [
    "df[\"patient1\"]"
   ]
  },
  {
   "cell_type": "code",
   "execution_count": 950,
   "metadata": {},
   "outputs": [
    {
     "data": {
      "text/plain": [
       "330.1235272285136"
      ]
     },
     "execution_count": 950,
     "metadata": {},
     "output_type": "execute_result"
    }
   ],
   "source": [
    "mean_squared_error(sim[\"patient1\"],df[\"patient1\"])"
   ]
  },
  {
   "cell_type": "code",
   "execution_count": 951,
   "metadata": {},
   "outputs": [
    {
     "data": {
      "text/plain": [
       "342.12438108202355"
      ]
     },
     "execution_count": 951,
     "metadata": {},
     "output_type": "execute_result"
    }
   ],
   "source": [
    "mean_squared_error(sim[\"patient3\"],df[\"patient3\"])"
   ]
  },
  {
   "cell_type": "code",
   "execution_count": null,
   "metadata": {},
   "outputs": [],
   "source": []
  },
  {
   "cell_type": "code",
   "execution_count": 952,
   "metadata": {},
   "outputs": [
    {
     "data": {
      "text/plain": [
       "156.11798320564432"
      ]
     },
     "execution_count": 952,
     "metadata": {},
     "output_type": "execute_result"
    }
   ],
   "source": [
    "mean_squared_error(sim[\"patient2\"],df[\"patient2\"])"
   ]
  },
  {
   "cell_type": "code",
   "execution_count": null,
   "metadata": {},
   "outputs": [],
   "source": []
  }
 ],
 "metadata": {
  "kernelspec": {
   "display_name": "base",
   "language": "python",
   "name": "python3"
  },
  "language_info": {
   "codemirror_mode": {
    "name": "ipython",
    "version": 3
   },
   "file_extension": ".py",
   "mimetype": "text/x-python",
   "name": "python",
   "nbconvert_exporter": "python",
   "pygments_lexer": "ipython3",
   "version": "3.9.5"
  },
  "orig_nbformat": 4,
  "vscode": {
   "interpreter": {
    "hash": "3d597f4c481aa0f25dceb95d2a0067e73c0966dcbd003d741d821a7208527ecf"
   }
  }
 },
 "nbformat": 4,
 "nbformat_minor": 2
}
