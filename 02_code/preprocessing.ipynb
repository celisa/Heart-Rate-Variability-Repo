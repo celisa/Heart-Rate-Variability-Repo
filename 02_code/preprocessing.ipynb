{
 "cells": [
  {
   "cell_type": "code",
   "execution_count": 2,
   "metadata": {},
   "outputs": [],
   "source": [
    "#from kats.models.prophet import ProphetModel, ProphetParams\n",
    "#from kats.consts import TimeSeriesData\n",
    "#from kats.models.var import VARModel, VARParams\n",
    "import pandas as pd\n",
    "\n",
    "from sklearn.metrics import r2_score\n",
    "from sklearn.metrics import mean_squared_error\n",
    "import math\n",
    "import numpy as np\n",
    "from statsmodels.tsa.stattools import adfuller\n",
    "import matplotlib.pyplot as plt\n",
    "import os\n",
    "import glob\n",
    "from arch import arch_model\n",
    "from statsmodels.graphics.tsaplots import plot_acf, plot_pacf\n",
    "from statsmodels.tsa.holtwinters import ExponentialSmoothing\n",
    "import warnings"
   ]
  },
  {
   "attachments": {},
   "cell_type": "markdown",
   "metadata": {},
   "source": [
    "## Read in Data"
   ]
  },
  {
   "attachments": {},
   "cell_type": "markdown",
   "metadata": {},
   "source": [
    "Change this `PATH` string to your local repository with all the data:"
   ]
  },
  {
   "cell_type": "code",
   "execution_count": 3,
   "metadata": {},
   "outputs": [],
   "source": [
    "path = r'/Users/edawg/Desktop/Duke/Time Series/Heart-Rate-Variability-Repo/01_data/1st topic' # use your path"
   ]
  },
  {
   "cell_type": "code",
   "execution_count": 9,
   "metadata": {},
   "outputs": [],
   "source": [
    "def read_data(path):\n",
    "    # read all files from a directory\n",
    "    rri_files = glob.glob(os.path.join(path, \"*_RRI.txt\"))\n",
    "    all_patients_df = pd.DataFrame()\n",
    "\n",
    "    for i in range(len(rri_files)):\n",
    "        patient = rri_files[i].split(\"/\")[-1][0:-8]\n",
    "        bis_path = path + \"/\" + patient + \"_BIS.txt\"\n",
    "        patient_num = i + 1\n",
    "\n",
    "        # read in the data\n",
    "        rri = pd.read_table(rri_files[i], sep=\",\",names=[\"time\",\"signal\"])\n",
    "        bis = pd.read_table(bis_path, sep=\",\",names=[\"time\",\"signal\"])\n",
    "\n",
    "        # rename signal column\n",
    "        rri.rename(columns={\"signal\": \"rri_\" + str(patient_num)}, inplace=True)\n",
    "        bis.rename(columns={\"signal\": \"bis_\" + str(patient_num)}, inplace=True)\n",
    "\n",
    "        # merge the data\n",
    "        patient_df = pd.concat([rri['rri_' + str(patient_num)], bis['bis_' + str(patient_num)]], axis=1)\n",
    "        all_patients_df = pd.concat([all_patients_df, patient_df], axis=1)\n",
    "\n",
    "    all_patients_df['time'] = all_patients_df.index\n",
    "    all_patients_df['pre_post'] = np.where(all_patients_df['time']<all_patients_df['time'][1440],0,1)\n",
    "\n",
    "    rris = all_patients_df[[col for col in all_patients_df if col.startswith('rri')]].copy()\n",
    "    biss = all_patients_df[[col for col in all_patients_df if col.startswith('bis')]].copy()\n",
    "\n",
    "    return rris, biss"
   ]
  },
  {
   "cell_type": "code",
   "execution_count": 38,
   "metadata": {},
   "outputs": [],
   "source": [
    "def preprocess(patient, differencing = True, periods = 1, smoothing = True, smoothing_level = 0.1):\n",
    "    if differencing:\n",
    "        patient = patient.diff(periods = periods).dropna()\n",
    "    if smoothing:\n",
    "        exp_model = ExponentialSmoothing(patient, trend=\"add\", seasonal=None).fit(smoothing_level=smoothing_level)\n",
    "        patient = exp_model.fittedvalues\n",
    "    return patient"
   ]
  },
  {
   "cell_type": "code",
   "execution_count": 40,
   "metadata": {},
   "outputs": [],
   "source": [
    "def create_datasets(rris, biss, differencing = True, periods = 1, smoothing = True, smoothing_level = 0.1):\n",
    "    preprocessed_rris = {}\n",
    "    preprocessed_biss = {}\n",
    "    for patient in rris.columns:\n",
    "        preprocessed_rris[patient] = preprocess(rris[patient], differencing, periods, smoothing, smoothing_level)\n",
    "    for patient in biss.columns:\n",
    "        preprocessed_biss[patient] = preprocess(biss[patient], differencing, periods, smoothing, smoothing_level)\n",
    "    return pd.DataFrame(preprocessed_rris), pd.DataFrame(preprocessed_biss)"
   ]
  },
  {
   "attachments": {},
   "cell_type": "markdown",
   "metadata": {},
   "source": [
    "### Create datasets"
   ]
  },
  {
   "cell_type": "code",
   "execution_count": 41,
   "metadata": {},
   "outputs": [],
   "source": [
    "warnings.filterwarnings(\"ignore\")\n",
    "\n",
    "rris_raw, biss_raw = read_data(path)\n",
    "rris, biss = create_datasets(rris_raw, biss_raw)"
   ]
  },
  {
   "attachments": {},
   "cell_type": "markdown",
   "metadata": {},
   "source": [
    "### Import datasets"
   ]
  },
  {
   "cell_type": "code",
   "execution_count": 44,
   "metadata": {},
   "outputs": [],
   "source": [
    "rris.to_csv(\"rris_preprocessed.csv\")\n",
    "biss.to_csv(\"biss_preprocessed.csv\")"
   ]
  }
 ],
 "metadata": {
  "kernelspec": {
   "display_name": "base",
   "language": "python",
   "name": "python3"
  },
  "language_info": {
   "codemirror_mode": {
    "name": "ipython",
    "version": 3
   },
   "file_extension": ".py",
   "mimetype": "text/x-python",
   "name": "python",
   "nbconvert_exporter": "python",
   "pygments_lexer": "ipython3",
   "version": "3.10.6"
  },
  "orig_nbformat": 4,
  "vscode": {
   "interpreter": {
    "hash": "12e70130df1a6fb44fd6c0e844ce23468b92c479dce78f6b385c20eb7bfad59d"
   }
  }
 },
 "nbformat": 4,
 "nbformat_minor": 2
}
